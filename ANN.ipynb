{
 "cells": [
  {
   "cell_type": "code",
   "id": "initial_id",
   "metadata": {
    "collapsed": true,
    "ExecuteTime": {
     "end_time": "2024-10-21T10:57:17.468853Z",
     "start_time": "2024-10-21T10:57:13.189180Z"
    }
   },
   "source": [
    "# ## Importieren der notwendigen Bibliotheken\n",
    "import chess.pgn\n",
    "import chess.svg\n",
    "import random as ran\n",
    "import numpy as np\n",
    "from tensorflow.python.keras.utils.version_utils import callbacks\n",
    "import tensorflow as tf\n",
    "# ## Laden der PGN-Datei\n",
    "pgn = open(\"data/lichess_db_standard_rated_2013-01.pgn\", encoding=\"utf-8-sig\")"
   ],
   "outputs": [],
   "execution_count": 1
  },
  {
   "metadata": {
    "ExecuteTime": {
     "end_time": "2024-10-21T10:57:19.771603Z",
     "start_time": "2024-10-21T10:57:17.479032Z"
    }
   },
   "cell_type": "code",
   "source": [
    "# ## Initialisieren der Liste für Schachmatt-Spiele\n",
    "checkmate_games = []\n",
    "\n",
    "# ## Extrahieren der Spiele, die durch Schachmatt beendet wurden\n",
    "while True:\n",
    "    offset = pgn.tell()\n",
    "    headers = chess.pgn.read_headers(pgn)\n",
    "\n",
    "    if headers is None:\n",
    "        break\n",
    "    if \"Normal\" in headers.get(\"Termination\"):\n",
    "        checkmate_games.append(offset)\n",
    "print(f\"Anzahl der Spiele: {len(checkmate_games)}\")        "
   ],
   "id": "37cfe438e41e4ea4",
   "outputs": [
    {
     "name": "stdout",
     "output_type": "stream",
     "text": [
      "Anzahl der Spiele: 83449\n"
     ]
    }
   ],
   "execution_count": 2
  },
  {
   "metadata": {
    "ExecuteTime": {
     "end_time": "2024-10-21T10:59:11.622582Z",
     "start_time": "2024-10-21T10:57:19.809943Z"
    }
   },
   "cell_type": "code",
   "source": [
    "# ## Laden der Schachmatt-Spiele in eine Liste\n",
    "checkmate_games2 = []\n",
    "for i in checkmate_games:\n",
    "    pgn.seek(i)\n",
    "    checkmate_games2.append(chess.pgn.read_game(pgn))\n",
    "print(f\"Anzahl der Spiele, die unentschieden oder in Schachmatt enden: {len(checkmate_games2)}\")"
   ],
   "id": "edd6ca5a11722ab0",
   "outputs": [
    {
     "name": "stdout",
     "output_type": "stream",
     "text": [
      "Anzahl der Spiele, die unentschieden oder in Schachmatt enden: 83449\n"
     ]
    }
   ],
   "execution_count": 3
  },
  {
   "metadata": {
    "ExecuteTime": {
     "end_time": "2024-10-21T10:59:37.531978Z",
     "start_time": "2024-10-21T10:59:11.739168Z"
    }
   },
   "cell_type": "code",
   "source": [
    "# ## Filtern der tatsächlichen Schachmatt-Spiele\n",
    "checkmate_games3 = []\n",
    "\n",
    "for i in range(len(checkmate_games2)):\n",
    "    if checkmate_games2[i].end().board().is_checkmate():\n",
    "        checkmate_games3.append(checkmate_games2[i])\n",
    "\n",
    "print(f\"Anzahl der Schachmatt-Spiele: {len(checkmate_games3)}\")\n"
   ],
   "id": "7f0a61611627b0ae",
   "outputs": [
    {
     "name": "stdout",
     "output_type": "stream",
     "text": [
      "Anzahl der Schachmatt-Spiele: 34475\n"
     ]
    }
   ],
   "execution_count": 4
  },
  {
   "metadata": {
    "ExecuteTime": {
     "end_time": "2024-10-21T11:02:45.805227Z",
     "start_time": "2024-10-21T11:02:33.624440Z"
    }
   },
   "cell_type": "code",
   "source": [
    "# ## Umwandeln der Schachmatt-Endstellungen in Listenform für Eingabe in ANN \n",
    "checkmate_as_list = []\n",
    "for i in range(len(checkmate_games3)):\n",
    "    board = checkmate_games3[i].end().board()\n",
    "\n",
    "    l = [None] * 64\n",
    "    for sq in chess.scan_reversed(board.occupied_co[chess.WHITE]):  # Check if white\n",
    "        l[sq] = board.piece_type_at(sq)\n",
    "    for sq in chess.scan_reversed(board.occupied_co[chess.BLACK]):  # Check if black\n",
    "        l[sq] = -board.piece_type_at(sq)\n",
    "    checkmate_as_list.append([0 if v is None else v for v in l])\n",
    "print(checkmate_as_list[0])"
   ],
   "id": "670f5bf75308dacb",
   "outputs": [
    {
     "name": "stdout",
     "output_type": "stream",
     "text": [
      "[4, 0, 0, 0, 6, 0, 0, 4, 0, 1, 1, 0, 0, 1, 1, 1, 1, 0, 2, 0, 0, 0, 0, 0, 0, 0, 0, 1, 1, 0, 0, -5, 0, 0, 0, 0, 0, 0, 0, 3, 0, -1, -2, 0, -1, 0, 0, 0, -1, -3, -1, -1, 0, 0, 0, -1, -4, 0, 0, -6, 5, -3, 0, -4]\n"
     ]
    }
   ],
   "execution_count": 11
  },
  {
   "metadata": {
    "ExecuteTime": {
     "end_time": "2024-10-21T11:00:02.853097Z",
     "start_time": "2024-10-21T10:59:49.821576Z"
    }
   },
   "cell_type": "code",
   "source": [
    "# ## Erstellen von Nicht-Schachmatt-Stellungen\n",
    "non_checkmate_as_list = []\n",
    "for j in range(1, 70000):\n",
    "    board = checkmate_games2[j].board()\n",
    "    moves = []\n",
    "\n",
    "    for move in checkmate_games2[j].mainline_moves():\n",
    "        moves.append(move)\n",
    "\n",
    "    if len(moves) - 2 <= 1:\n",
    "        continue\n",
    "\n",
    "    r1 = ran.randint(1, len(moves) - 2)\n",
    "\n",
    "    for i in range(r1):\n",
    "        board.push(moves[i])\n",
    "\n",
    "    l = [None] * 64\n",
    "    for sq in chess.scan_reversed(board.occupied_co[chess.WHITE]):  # Check if white\n",
    "        l[sq] = board.piece_type_at(sq)\n",
    "    for sq in chess.scan_reversed(board.occupied_co[chess.BLACK]):  # Check if black\n",
    "        l[sq] = -board.piece_type_at(sq)\n",
    "    non_checkmate_as_list.append([0 if v is None else v for v in l])"
   ],
   "id": "f46ba28639810b5d",
   "outputs": [],
   "execution_count": 6
  },
  {
   "metadata": {
    "ExecuteTime": {
     "end_time": "2024-10-21T11:04:12.674801Z",
     "start_time": "2024-10-21T11:04:10.855032Z"
    }
   },
   "cell_type": "code",
   "source": [
    "# ## Importieren der notwendigen Bibliothek\n",
    "from sklearn.model_selection import train_test_split\n",
    "\n",
    "# ## Entfernen der Duplikate \n",
    "unique_array = np.unique(checkmate_as_list, axis=0)\n",
    "mate_Imgs_ann = unique_array\n",
    "\n",
    "unique_array = np.unique(non_checkmate_as_list, axis=0)\n",
    "not_mate_Imgs_ann = unique_array\n",
    "\n",
    "# ## Aufteilen der Daten in Trainings- und Testdaten\n",
    "train1 = mate_Imgs_ann[:30000]  # 10000 checkmate images\n",
    "train2 = not_mate_Imgs_ann[:30000]  # 50000 non-checkmate images\n",
    "\n",
    "test_mate_ann = mate_Imgs_ann[30000:31000]  # 100 checkmate images\n",
    "test_not_mate_ann= not_mate_Imgs_ann[30000:31000]  # 500 non-checkmate images\n",
    "\n",
    "train1_labs = np.ones(30000)  # label checkmate images\n",
    "train2_labs = np.zeros(30000)  # label non-checkmate images\n",
    "\n",
    "# ## Zusammenführen der Trainingsdaten\n",
    "training_data_features_ann = np.concatenate((train1, train2))\n",
    "training_data_labels_ann = np.concatenate((train1_labs, train2_labs))\n",
    "\n",
    "\n",
    "train_data_ann, test_data_ann, train_labels_ann, test_labels_ann = train_test_split(training_data_features_ann,training_data_labels_ann , test_size=0.2, random_state=42)\n",
    "print(train_data_ann.shape)\n",
    "print(test_data_ann.shape)\n"
   ],
   "id": "a831e4c1879c7f85",
   "outputs": [
    {
     "name": "stdout",
     "output_type": "stream",
     "text": [
      "(48000, 64)\n"
     ]
    }
   ],
   "execution_count": 12
  },
  {
   "metadata": {
    "jupyter": {
     "is_executing": true
    },
    "ExecuteTime": {
     "start_time": "2024-10-21T12:18:28.639541Z"
    }
   },
   "cell_type": "code",
   "source": [
    "patience= 10\n",
    "\n",
    "model = tf.keras.Sequential([\n",
    "    # tf.keras.layers.Flatten(),\n",
    "    tf.keras.layers.Input(shape=(64)),\n",
    "    tf.keras.layers.Dense(32, activation='sigmoid'),\n",
    "    tf.keras.layers.Dense(2, activation='softmax')\n",
    "\n",
    "])\n",
    "\n",
    "# opt = tf.keras.optimizers.Adam(learning_rate=0.0005)\n",
    "opt = tf.keras.optimizers.legacy.Adam(learning_rate=0.0005)\n",
    "\n",
    "model.compile(optimizer=opt,\n",
    "              loss='sparse_categorical_crossentropy',\n",
    "              metrics=['acc'])\n",
    "\n",
    "earlystopping = callbacks.EarlyStopping(monitor=\"val_loss\",\n",
    "                                        mode=\"min\", patience=10,\n",
    "                                        restore_best_weights=True, verbose=1)\n",
    "# Train the model\n",
    "history = model.fit(x=train_data_ann,\n",
    "                    y=train_labels_ann,\n",
    "                    epochs=1000,\n",
    "                    verbose=1,\n",
    "                    batch_size=32,\n",
    "                    validation_data=(test_data_ann, test_labels_ann),\n",
    "                    callbacks=[earlystopping])\n",
    "\n",
    "bestEpoch = earlystopping.stopped_epoch - patience\n",
    "\n",
    "model.save('./data/models/ann_model_max_epochs.h5')\n",
    "\n",
    "mate_pred = model.predict(test_mate_ann)\n",
    "test_not_mate_pred = model.predict(test_not_mate_ann)\n",
    "print(mate_pred)\n",
    "print(test_not_mate_pred)\n",
    "\n",
    "mates = [np.round(sub_array[0]) for sub_array in mate_pred]\n",
    "not_mates = [np.round(sub_array[0]) for sub_array in test_not_mate_pred]\n",
    "\n",
    "print(mates)\n",
    "print(not_mates)\n",
    "\n",
    "print(f'{mates.count(0)} of 1000 mates predicted correctly')\n",
    "print(f'{not_mates.count(1)} of 1000 non-mates predicted correctly')"
   ],
   "id": "b02872a67e8bb450",
   "outputs": [
    {
     "name": "stdout",
     "output_type": "stream",
     "text": [
      "Epoch 1/1000\n",
      " 756/1500 [==============>...............] - ETA: 2s - loss: 0.5912 - acc: 0.6878"
     ]
    }
   ],
   "execution_count": null
  }
 ],
 "metadata": {
  "kernelspec": {
   "display_name": "Python 3",
   "language": "python",
   "name": "python3"
  },
  "language_info": {
   "codemirror_mode": {
    "name": "ipython",
    "version": 2
   },
   "file_extension": ".py",
   "mimetype": "text/x-python",
   "name": "python",
   "nbconvert_exporter": "python",
   "pygments_lexer": "ipython2",
   "version": "2.7.6"
  }
 },
 "nbformat": 4,
 "nbformat_minor": 5
}
